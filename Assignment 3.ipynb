{
 "cells": [
  {
   "cell_type": "markdown",
   "id": "7c60b1b2-e28a-4f98-ac25-e6b072d0b0aa",
   "metadata": {},
   "source": [
    "# Assignment 3\n",
    "## 2024/09/18\n",
    "### *Minaya Chanmini Gunawardhana*"
   ]
  },
  {
   "cell_type": "markdown",
   "id": "46691399-b2a0-4b66-9bce-468c891d7024",
   "metadata": {},
   "source": [
    "## Qustion 1"
   ]
  },
  {
   "cell_type": "markdown",
   "id": "effee7c7-41c8-432a-bfe7-ad81d71d96a1",
   "metadata": {},
   "source": [
    "### 1. Write a lambda expression to get the product of two numbers.\n",
    "### Run test for expression(5,6)\n",
    "### Output: 30"
   ]
  },
  {
   "cell_type": "code",
   "execution_count": 228,
   "id": "f3d35cdf-d4ad-4be9-88ba-a90453241e1c",
   "metadata": {},
   "outputs": [
    {
     "name": "stdout",
     "output_type": "stream",
     "text": [
      "30\n"
     ]
    }
   ],
   "source": [
    "x= lambda num1,num2: num1*num2 # num1 num2 multiply \n",
    "result= x(5,6)\n",
    "print(result)\n"
   ]
  },
  {
   "cell_type": "markdown",
   "id": "2da2f2cd-e0db-49fa-aad6-b36c55e91ede",
   "metadata": {},
   "source": [
    "## Question 2"
   ]
  },
  {
   "cell_type": "markdown",
   "id": "ca9ef65e-b927-4269-93cf-f25ece1edb9a",
   "metadata": {},
   "source": [
    "### 2. Write a function to get the area of a circle from the radius. \n",
    "### Hint: remember to import the right modul for being able to calculte the area of the circle.\n",
    "### Run test for function(10)\n",
    "### Output: 314.1592653589793\n"
   ]
  },
  {
   "cell_type": "code",
   "execution_count": 231,
   "id": "b329f3af-9b29-4e8d-b48d-4b32a7906282",
   "metadata": {},
   "outputs": [
    {
     "name": "stdout",
     "output_type": "stream",
     "text": [
      "314.1592653589793\n"
     ]
    }
   ],
   "source": [
    "import math # Import a math module\n",
    "\n",
    "def area_of_circle(radius):\n",
    "    return math.pi * radius ** 2 # Pie*r^2 formula\n",
    "\n",
    "result = area_of_circle(10)\n",
    "print(result)\n",
    "    \n"
   ]
  },
  {
   "cell_type": "markdown",
   "id": "e04ac634-0fc4-457d-a36a-845f0ef13b32",
   "metadata": {},
   "source": [
    "## Question 3"
   ]
  },
  {
   "cell_type": "markdown",
   "id": "58b39a29-bcd9-4120-af52-65eb3f0895d5",
   "metadata": {},
   "source": [
    "### 3. Build a simple calculator which can: add, subtract, multiply, divide. \n",
    "### Hint: solve by writing a function that takes as argument two numbers and the operation and \n",
    "### returns the desired output.\n",
    "### Run test for function(2,5,’d’)\n",
    "### Output: 0.4\n"
   ]
  },
  {
   "cell_type": "code",
   "execution_count": 234,
   "id": "8ad814b1-109c-430b-aa40-c7c0c8d790c6",
   "metadata": {},
   "outputs": [
    {
     "name": "stdout",
     "output_type": "stream",
     "text": [
      "0.4\n"
     ]
    }
   ],
   "source": [
    "def calculator(num1,num2, operation):\n",
    "\n",
    "    if operation == 'a': # Addition of num1,num2\n",
    "        return num1 + num2 \n",
    "    elif operation == 's' : # Substraction of num1,num2 \n",
    "        return num1 - num2 \n",
    "    elif operation == 'm': # Multiply of num1,num2\n",
    "        return num1 * num2 \n",
    "    elif operation == 'd': # Devision of num1,num2\n",
    "        if num2 != 0:\n",
    "            return num1 / num2 \n",
    "        else:\n",
    "            \n",
    "            return \"Error: cant'devide by zero\" \n",
    "    else: \n",
    "        return \" Error: Invalid operation\"\n",
    "    \n",
    "result= calculator(2,5,'d') \n",
    "print(result)\n",
    "\n"
   ]
  },
  {
   "cell_type": "markdown",
   "id": "6207a341-070f-4ec2-b43b-bccf2635c890",
   "metadata": {},
   "source": [
    "## Question 4"
   ]
  },
  {
   "cell_type": "markdown",
   "id": "18e1e8ba-bf86-4d5c-aeab-f70c5ec1ea2b",
   "metadata": {},
   "source": [
    "### 4. Define a class named Rectangle which can be constructed by a length and width.\n",
    "### The Rectangle class has a method which can compute the area.\n",
    "### Run test for r = Rectangle(5,10)\n",
    "### r.area()\n",
    "### Output: 50"
   ]
  },
  {
   "cell_type": "code",
   "execution_count": 237,
   "id": "f43fbaa5-0259-4e77-9fa9-b98470c2d302",
   "metadata": {},
   "outputs": [
    {
     "name": "stdout",
     "output_type": "stream",
     "text": [
      "50\n"
     ]
    }
   ],
   "source": [
    "class Rectangle: # Creating object\n",
    "\n",
    "    def __init__(self,width,length): # Properties of rectangle\n",
    "        self.width = width\n",
    "        self.length = length\n",
    "        \n",
    "    def area(self):\n",
    "        return self.width * self.length # * fpr multiplying \n",
    "        \n",
    "r= Rectangle(5, 10)\n",
    "print(r.area())"
   ]
  },
  {
   "cell_type": "markdown",
   "id": "1f25b380-595c-491e-ab98-2778421d7827",
   "metadata": {},
   "source": [
    "## Question 5"
   ]
  },
  {
   "cell_type": "markdown",
   "id": "f6d16066-8c25-474b-aeed-efb6eddae4bf",
   "metadata": {},
   "source": [
    "### 5. Define a class named Shape and its subclass Square.\n",
    "### Shape objects can be consrtucted by name and length has an area function wich return 0\n",
    "### Square subclass has an init function which take a length and name as argument and has an\n",
    "### area method and a describe method what prints the name of the Shape.\n",
    "###  Print the area from Square class.\n",
    "### Run test for: s = Square('square',5)\n",
    "### print(s.area())\n",
    "### print(s.describe())\n",
    "###  Output: The area is: \n",
    "### 25\n",
    "### This is a: square"
   ]
  },
  {
   "cell_type": "code",
   "execution_count": 240,
   "id": "cce54637-1522-4d01-a083-5cd20a33c832",
   "metadata": {},
   "outputs": [
    {
     "name": "stdout",
     "output_type": "stream",
     "text": [
      "The area is: 25\n",
      "This is a: square\n"
     ]
    }
   ],
   "source": [
    "class Shape: # Creating object\n",
    "    def __init__(self, name):\n",
    "        self.name = name\n",
    "\n",
    "    def area(self):\n",
    "        return 0 # Shape doesn't have an area\n",
    "\n",
    "class Square(Shape):\n",
    "    def __init__(self, name, length): # Initialising the object's attributes with value \n",
    "        super().__init__(name)  \n",
    "        self.length = length\n",
    "\n",
    "    def area(self):\n",
    "        return self.length ** 2 # Square of length\n",
    "\n",
    "    def describe(self):\n",
    "        return f\"This is a: {self.name}\"\n",
    "\n",
    "\n",
    "s = Square('square', 5)\n",
    "print(f'The area is: {s.area()}')  \n",
    "print(s.describe())              \n"
   ]
  },
  {
   "cell_type": "code",
   "execution_count": null,
   "id": "e67051b2-76e6-436a-be8a-7714fec0f03b",
   "metadata": {},
   "outputs": [],
   "source": []
  }
 ],
 "metadata": {
  "kernelspec": {
   "display_name": "Python 3 (ipykernel)",
   "language": "python",
   "name": "python3"
  },
  "language_info": {
   "codemirror_mode": {
    "name": "ipython",
    "version": 3
   },
   "file_extension": ".py",
   "mimetype": "text/x-python",
   "name": "python",
   "nbconvert_exporter": "python",
   "pygments_lexer": "ipython3",
   "version": "3.12.4"
  }
 },
 "nbformat": 4,
 "nbformat_minor": 5
}
